{
 "cells": [
  {
   "cell_type": "markdown",
   "metadata": {},
   "source": [
    "\n",
    "```{figure} /figures/ready.png\n",
    "---\n",
    "width: 35%\n",
    "align: right\n",
    "```\n",
    "# 02 Kepler's Third Law \n",
    "    \n",
    "  \n",
    "## Aim   \n",
    " To show empirically that Kepler’s third law is true.    \n",
    "  \n",
    "## Subjects   \n",
    " 1L20 (Orbits) 8A10 (Solar System Mechanics)   \n",
    "  \n",
    "
## Diagram   \n",
    "   \n",
    "```{figure} figures/figure_0.png  \n",
    "---  \n",
    "width: 70%  \n",
    "name: 1l2002/figure_0.png  \n",
    "---  \n",
    "  \n",
    "``` \n",
    "     \n",
    "  \n",
    "## Equipment   \n",
    " \n",
    " *  Graph on overhead sheet, $T=f(a)$, $T$ and a both scaled logarithmically. \n",
    " *  Table with data of the planetary system (see [Sources](#sources)). \n",
    "  \n",
    "## Presentation   \n",
    " The graph is projected by means of an overhead sheet. The relationship with the table of planetary data is elucidated. Clearly can be observed that the data fit on a straight line in such a double logarithmic graph. The slope of this line ($p/q$) equals 1.5. This is the relationship of the powers in Kepler's third law: $T^2\\propto a^3$\n",
    "  \n",
    "## Explanation   \n",
    " Kepler's third law states  $T^2=c \\times a^3$ with $c$ a constant. Taking logarithms on both sides, we can also write:\n",
    " $$2\\log T = \\log c + 3\\log a$$ \n",
    " and:\n",
    " $$\\log T = \\frac{1}{2}\\log c + \\frac{3}{2}\\log a$$\n",
    " So when T and a are graphed logarithmically (with $x$– and $y$-decades equally spaced), we see a line whose slope ($\\frac{3}{2}$) is the power-relationship in the original function.   \n",
    "\n",
    "## Simulation.\n",
    "For the simulation we use the planets in our solar system. Additional data points can also be added."
   ]
  },
  {
   "cell_type": "code",
   "execution_count": 3,
   "metadata": {},
   "outputs": [
    {
     "data": {
      "image/png": "[encoded data removed]",
      "text/plain": [
       "<Figure size 640x480 with 1 Axes>"
      ]
     },
     "metadata": {},
     "output_type": "display_data"
    }
   ],
   "source": [
    "import numpy as np\n",
    "import matplotlib.pyplot as plt\n",
    "\n",
    "#Planetary data: name of planet, average distance to the sun(AU), Orbital period (years)\n",
    "planet_data = np.array([\n",
    "    [\"Mercury\", 0.39, 0.24],\n",
    "    [\"Venus\", 0.72, 0.61],\n",
    "    [\"Earth\", 1.00, 1.00],\n",
    "    [\"Mars\", 1.52, 1.88],\n",
    "    [\"Jupiter\", 5.20, 11.86],\n",
    "    [\"Saturn\", 9.58, 29.46],\n",
    "    [\"Uranus\", 19.22, 84.01],\n",
    "    [\"Neptune\", 30.05, 164.80]\n",
    "])\n",
    "\n",
    "# Convert the second and third columns to floats\n",
    "distances = planet_data[:, 1].astype(float)\n",
    "orbital_periods = planet_data[:, 2].astype(float)\n",
    "\n",
    "# Plot the data\n",
    "plt.plot(distances, orbital_periods, 'o')\n",
    "plt.xlabel('Average Distance to Sun $a$ (AU)')\n",
    "plt.ylabel('Orbital Period $T$ (years)')\n",
    "plt.yscale('log')\n",
    "plt.xscale('log')\n",
    "plt.title('Kepler\\'s Third Law')\n",
    "plt.show()\n"
   ]
  },
  {
   "cell_type": "markdown",
   "metadata": {},
   "source": [
    "The figure above plots both $T$ and $a$ linearly. We can now try to empirically validate Kepler's third law by fitting a straight line $\\log T= h\\times \\log a + const.$ to the data using linear regression. If Kepler's third law is correct we should find a value of 3/2 for h."
   ]
  },
  {
   "cell_type": "code",
   "execution_count": 19,
   "metadata": {},
   "outputs": [
    {
     "name": "stdout",
     "output_type": "stream",
     "text": [
      "h = 1.5011 ± 0.0013\n",
      "0.0013\n"
     ]
    }
   ],
   "source": [
    "from scipy.optimize import curve_fit\n",
    "\n",
    "def fit(a, h, const):\n",
    "    return h*a+const\n",
    "\n",
    "distances_log = np.log(distances)\n",
    "orbital_periods_log = np.log(orbital_periods)\n",
    "\n",
    "popt, pcov = curve_fit(fit, distances_log, orbital_periods_log)\n",
    "print('h = ' + str(round(popt[0],4)) + ' ± ' + str(round(np.sqrt(pcov[0,0]),4)))\n"
   ]
  },
  {
   "cell_type": "markdown",
   "metadata": {},
   "source": [
    "## Sources   \n",
    " \n",
    " *  Mansfield, M and O'Sullivan, C., Understanding physics, edition 1998, pag. 106-107 and 741  (planetary data). \n",
    " *  BINAS tabellenboek, vijfde druk, tabel 31. \n",
    " *  McComb, W.D., Dynamics and Relativity, edition 1999, pag. 72-74. \n",
    " *  Roest, R., Inleiding Mechanica, vijfde druk, pag. 257-258. \n",
    " *  Stewart, J, Calculus, edition 1999, pag. 867."
   ]
  }
 ],
 "metadata": {
  "kernelspec": {
   "display_name": "base",
   "language": "python",
   "name": "python3"
  },
  "language_info": {
   "codemirror_mode": {
    "name": "ipython",
    "version": 3
   },
   "file_extension": ".py",
   "mimetype": "text/x-python",
   "name": "python",
   "nbconvert_exporter": "python",
   "pygments_lexer": "ipython3",
   "version": "3.11.7"
  }
 },
 "nbformat": 4,
 "nbformat_minor": 2
}
